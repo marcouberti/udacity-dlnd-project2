{
 "cells": [
  {
   "cell_type": "markdown",
   "metadata": {
    "collapsed": true,
    "deletable": true,
    "editable": true
   },
   "source": [
    "# Image Classification\n",
    "In this project, you'll classify images from the [CIFAR-10 dataset](https://www.cs.toronto.edu/~kriz/cifar.html).  The dataset consists of airplanes, dogs, cats, and other objects. You'll preprocess the images, then train a convolutional neural network on all the samples. The images need to be normalized and the labels need to be one-hot encoded.  You'll get to apply what you learned and build a convolutional, max pooling, dropout, and fully connected layers.  At the end, you'll get to see your neural network's predictions on the sample images.\n",
    "## Get the Data\n",
    "Run the following cell to download the [CIFAR-10 dataset for python](https://www.cs.toronto.edu/~kriz/cifar-10-python.tar.gz)."
   ]
  },
  {
   "cell_type": "code",
   "execution_count": 1,
   "metadata": {
    "collapsed": false,
    "deletable": true,
    "editable": true
   },
   "outputs": [
    {
     "name": "stdout",
     "output_type": "stream",
     "text": [
      "All files found!\n"
     ]
    }
   ],
   "source": [
    "\"\"\"\n",
    "DON'T MODIFY ANYTHING IN THIS CELL THAT IS BELOW THIS LINE\n",
    "\"\"\"\n",
    "from urllib.request import urlretrieve\n",
    "from os.path import isfile, isdir\n",
    "from tqdm import tqdm\n",
    "import problem_unittests as tests\n",
    "import tarfile\n",
    "\n",
    "cifar10_dataset_folder_path = 'cifar-10-batches-py'\n",
    "\n",
    "class DLProgress(tqdm):\n",
    "    last_block = 0\n",
    "\n",
    "    def hook(self, block_num=1, block_size=1, total_size=None):\n",
    "        self.total = total_size\n",
    "        self.update((block_num - self.last_block) * block_size)\n",
    "        self.last_block = block_num\n",
    "\n",
    "if not isfile('cifar-10-python.tar.gz'):\n",
    "    with DLProgress(unit='B', unit_scale=True, miniters=1, desc='CIFAR-10 Dataset') as pbar:\n",
    "        urlretrieve(\n",
    "            'https://www.cs.toronto.edu/~kriz/cifar-10-python.tar.gz',\n",
    "            'cifar-10-python.tar.gz',\n",
    "            pbar.hook)\n",
    "\n",
    "if not isdir(cifar10_dataset_folder_path):\n",
    "    with tarfile.open('cifar-10-python.tar.gz') as tar:\n",
    "        tar.extractall()\n",
    "        tar.close()\n",
    "\n",
    "\n",
    "tests.test_folder_path(cifar10_dataset_folder_path)"
   ]
  },
  {
   "cell_type": "markdown",
   "metadata": {
    "deletable": true,
    "editable": true
   },
   "source": [
    "## Explore the Data\n",
    "The dataset is broken into batches to prevent your machine from running out of memory.  The CIFAR-10 dataset consists of 5 batches, named `data_batch_1`, `data_batch_2`, etc.. Each batch contains the labels and images that are one of the following:\n",
    "* airplane\n",
    "* automobile\n",
    "* bird\n",
    "* cat\n",
    "* deer\n",
    "* dog\n",
    "* frog\n",
    "* horse\n",
    "* ship\n",
    "* truck\n",
    "\n",
    "Understanding a dataset is part of making predictions on the data.  Play around with the code cell below by changing the `batch_id` and `sample_id`. The `batch_id` is the id for a batch (1-5). The `sample_id` is the id for a image and label pair in the batch.\n",
    "\n",
    "Ask yourself \"What are all possible labels?\", \"What is the range of values for the image data?\", \"Are the labels in order or random?\".  Answers to questions like these will help you preprocess the data and end up with better predictions."
   ]
  },
  {
   "cell_type": "code",
   "execution_count": 2,
   "metadata": {
    "collapsed": false,
    "deletable": true,
    "editable": true
   },
   "outputs": [
    {
     "name": "stdout",
     "output_type": "stream",
     "text": [
      "\n",
      "Stats of batch 1:\n",
      "Samples: 10000\n",
      "Label Counts: {0: 1005, 1: 974, 2: 1032, 3: 1016, 4: 999, 5: 937, 6: 1030, 7: 1001, 8: 1025, 9: 981}\n",
      "First 20 Labels: [6, 9, 9, 4, 1, 1, 2, 7, 8, 3, 4, 7, 7, 2, 9, 9, 9, 3, 2, 6]\n",
      "\n",
      "Example of Image 8:\n",
      "Image - Min Value: 8 Max Value: 252\n",
      "Image - Shape: (32, 32, 3)\n",
      "Label - Label Id: 8 Name: ship\n"
     ]
    },
    {
     "data": {
      "image/png": "[encoded data removed]",
      "text/plain": [
       "<matplotlib.figure.Figure at 0x7fa97cff74a8>"
      ]
     },
     "metadata": {
      "image/png": {
       "height": 250,
       "width": 253
      }
     },
     "output_type": "display_data"
    }
   ],
   "source": [
    "%matplotlib inline\n",
    "%config InlineBackend.figure_format = 'retina'\n",
    "\n",
    "import helper\n",
    "import numpy as np\n",
    "\n",
    "# Explore the dataset\n",
    "batch_id = 1\n",
    "sample_id = 8\n",
    "helper.display_stats(cifar10_dataset_folder_path, batch_id, sample_id)"
   ]
  },
  {
   "cell_type": "markdown",
   "metadata": {
    "deletable": true,
    "editable": true
   },
   "source": [
    "## Implement Preprocess Functions\n",
    "### Normalize\n",
    "In the cell below, implement the `normalize` function to take in image data, `x`, and return it as a normalized Numpy array. The values should be in the range of 0 to 1, inclusive.  The return object should be the same shape as `x`."
   ]
  },
  {
   "cell_type": "code",
   "execution_count": 3,
   "metadata": {
    "collapsed": false,
    "deletable": true,
    "editable": true
   },
   "outputs": [
    {
     "name": "stdout",
     "output_type": "stream",
     "text": [
      "Tests Passed\n"
     ]
    }
   ],
   "source": [
    "def normalize(x):\n",
    "    \"\"\"\n",
    "    Normalize a list of sample image data in the range of 0 to 1\n",
    "    : x: List of image data.  The image shape is (32, 32, 3)\n",
    "    : return: Numpy array of normalize data\n",
    "    \"\"\"\n",
    "    # TODO: Implement Function\n",
    "    xmin = 0\n",
    "    xmax = 255\n",
    "    output = (x - xmin) / (xmax - xmin)\n",
    "    # print('Input shape: ' + str(x.shape) + ' Output shape: ' + str(output.shape))\n",
    "    return output\n",
    "\n",
    "\n",
    "\"\"\"\n",
    "DON'T MODIFY ANYTHING IN THIS CELL THAT IS BELOW THIS LINE\n",
    "\"\"\"\n",
    "tests.test_normalize(normalize)"
   ]
  },
  {
   "cell_type": "markdown",
   "metadata": {
    "deletable": true,
    "editable": true
   },
   "source": [
    "### One-hot encode\n",
    "Just like the previous code cell, you'll be implementing a function for preprocessing.  This time, you'll implement the `one_hot_encode` function. The input, `x`, are a list of labels.  Implement the function to return the list of labels as One-Hot encoded Numpy array.  The possible values for labels are 0 to 9. The one-hot encoding function should return the same encoding for each value between each call to `one_hot_encode`.  Make sure to save the map of encodings outside the function.\n",
    "\n",
    "Hint: Don't reinvent the wheel."
   ]
  },
  {
   "cell_type": "markdown",
   "metadata": {
    "deletable": true,
    "editable": true
   },
   "source": [
    "[MU] Since I have to don't reinvent the wheel, I'll use sklearn LabelBinarizer."
   ]
  },
  {
   "cell_type": "code",
   "execution_count": 4,
   "metadata": {
    "collapsed": false,
    "deletable": true,
    "editable": true
   },
   "outputs": [
    {
     "name": "stdout",
     "output_type": "stream",
     "text": [
      "Tests Passed\n"
     ]
    }
   ],
   "source": [
    "from sklearn import preprocessing\n",
    "def one_hot_encode(x):\n",
    "    \"\"\"\n",
    "    One hot encode a list of sample labels. Return a one-hot encoded vector for each label.\n",
    "    : x: List of sample Labels\n",
    "    : return: Numpy array of one-hot encoded labels\n",
    "    \"\"\"\n",
    "    \n",
    "    # TODO: Implement Function\n",
    "    # All possible labels\n",
    "    labels = np.array([0,1,2,3,4,5,6,7,8,9])\n",
    "\n",
    "    # Create the encoder\n",
    "    lb = preprocessing.LabelBinarizer()\n",
    "\n",
    "    # Here the encoder finds the classes and assigns one-hot vectors \n",
    "    lb.fit(labels)\n",
    "\n",
    "    # And finally, transform the labels into one-hot encoded vectors\n",
    "    output = lb.transform(np.array(x))\n",
    "        \n",
    "    # print('Input shape: ' + str(len(x)) + ' Output shape: ' + str(output.shape))\n",
    "    return output\n",
    "\n",
    "\n",
    "\"\"\"\n",
    "DON'T MODIFY ANYTHING IN THIS CELL THAT IS BELOW THIS LINE\n",
    "\"\"\"\n",
    "tests.test_one_hot_encode(one_hot_encode)"
   ]
  },
  {
   "cell_type": "markdown",
   "metadata": {
    "deletable": true,
    "editable": true
   },
   "source": [
    "[MU] I've also implemented a custom implementation without using sklearn LabelBinarizer."
   ]
  },
  {
   "cell_type": "code",
   "execution_count": 5,
   "metadata": {
    "collapsed": false,
    "deletable": true,
    "editable": true
   },
   "outputs": [
    {
     "name": "stdout",
     "output_type": "stream",
     "text": [
      "Tests Passed\n"
     ]
    }
   ],
   "source": [
    "def custom_one_hot_encode(x):\n",
    "    \"\"\"\n",
    "    One hot encode a list of sample labels. Return a one-hot encoded vector for each label.\n",
    "    : x: List of sample Labels\n",
    "    : return: Numpy array of one-hot encoded labels\n",
    "    \"\"\"\n",
    "    # TODO: Implement Function\n",
    "    output = np.zeros((len(x), 10))\n",
    "    for idx, i in enumerate(x):\n",
    "        one_hot = np.zeros(10)\n",
    "        one_hot[i] = 1\n",
    "        output[idx] = one_hot\n",
    "        \n",
    "    # print('Input shape: ' + str(len(x)) + ' Output shape: ' + str(output.shape))\n",
    "    return output\n",
    "\n",
    "\n",
    "\"\"\"\n",
    "DON'T MODIFY ANYTHING IN THIS CELL THAT IS BELOW THIS LINE\n",
    "\"\"\"\n",
    "tests.test_one_hot_encode(custom_one_hot_encode)"
   ]
  },
  {
   "cell_type": "markdown",
   "metadata": {
    "deletable": true,
    "editable": true
   },
   "source": [
    "### Randomize Data\n",
    "As you saw from exploring the data above, the order of the samples are randomized.  It doesn't hurt to randomize it again, but you don't need to for this dataset."
   ]
  },
  {
   "cell_type": "markdown",
   "metadata": {
    "deletable": true,
    "editable": true
   },
   "source": [
    "## Preprocess all the data and save it\n",
    "Running the code cell below will preprocess all the CIFAR-10 data and save it to file. The code below also uses 10% of the training data for validation."
   ]
  },
  {
   "cell_type": "code",
   "execution_count": 6,
   "metadata": {
    "collapsed": false,
    "deletable": true,
    "editable": true
   },
   "outputs": [],
   "source": [
    "\"\"\"\n",
    "DON'T MODIFY ANYTHING IN THIS CELL\n",
    "\"\"\"\n",
    "# Preprocess Training, Validation, and Testing Data\n",
    "helper.preprocess_and_save_data(cifar10_dataset_folder_path, normalize, one_hot_encode)"
   ]
  },
  {
   "cell_type": "markdown",
   "metadata": {
    "deletable": true,
    "editable": true
   },
   "source": [
    "# Check Point\n",
    "This is your first checkpoint.  If you ever decide to come back to this notebook or have to restart the notebook, you can start from here.  The preprocessed data has been saved to disk."
   ]
  },
  {
   "cell_type": "code",
   "execution_count": 2,
   "metadata": {
    "collapsed": true,
    "deletable": true,
    "editable": true
   },
   "outputs": [],
   "source": [
    "\"\"\"\n",
    "DON'T MODIFY ANYTHING IN THIS CELL\n",
    "\"\"\"\n",
    "import pickle\n",
    "import problem_unittests as tests\n",
    "import helper\n",
    "\n",
    "# Load the Preprocessed Validation data\n",
    "valid_features, valid_labels = pickle.load(open('preprocess_validation.p', mode='rb'))"
   ]
  },
  {
   "cell_type": "markdown",
   "metadata": {
    "deletable": true,
    "editable": true
   },
   "source": [
    "## Build the network\n",
    "For the neural network, you'll build each layer into a function.  Most of the code you've seen has been outside of functions. To test your code more thoroughly, we require that you put each layer in a function.  This allows us to give you better feedback and test for simple mistakes using our unittests before you submit your project.\n",
    "\n",
    "If you're finding it hard to dedicate enough time for this course a week, we've provided a small shortcut to this part of the project. In the next couple of problems, you'll have the option to use [TensorFlow Layers](https://www.tensorflow.org/api_docs/python/tf/layers) or [TensorFlow Layers (contrib)](https://www.tensorflow.org/api_guides/python/contrib.layers) to build each layer, except \"Convolutional & Max Pooling\" layer.  TF Layers is similar to Keras's and TFLearn's abstraction to layers, so it's easy to pickup.\n",
    "\n",
    "If you would like to get the most of this course, try to solve all the problems without TF Layers.  Let's begin!\n",
    "### Input\n",
    "The neural network needs to read the image data, one-hot encoded labels, and dropout keep probability. Implement the following functions\n",
    "* Implement `neural_net_image_input`\n",
    " * Return a [TF Placeholder](https://www.tensorflow.org/api_docs/python/tf/placeholder)\n",
    " * Set the shape using `image_shape` with batch size set to `None`.\n",
    " * Name the TensorFlow placeholder \"x\" using the TensorFlow `name` parameter in the [TF Placeholder](https://www.tensorflow.org/api_docs/python/tf/placeholder).\n",
    "* Implement `neural_net_label_input`\n",
    " * Return a [TF Placeholder](https://www.tensorflow.org/api_docs/python/tf/placeholder)\n",
    " * Set the shape using `n_classes` with batch size set to `None`.\n",
    " * Name the TensorFlow placeholder \"y\" using the TensorFlow `name` parameter in the [TF Placeholder](https://www.tensorflow.org/api_docs/python/tf/placeholder).\n",
    "* Implement `neural_net_keep_prob_input`\n",
    " * Return a [TF Placeholder](https://www.tensorflow.org/api_docs/python/tf/placeholder) for dropout keep probability.\n",
    " * Name the TensorFlow placeholder \"keep_prob\" using the TensorFlow `name` parameter in the [TF Placeholder](https://www.tensorflow.org/api_docs/python/tf/placeholder).\n",
    "\n",
    "These names will be used at the end of the project to load your saved model.\n",
    "\n",
    "Note: `None` for shapes in TensorFlow allow for a dynamic size."
   ]
  },
  {
   "cell_type": "code",
   "execution_count": 3,
   "metadata": {
    "collapsed": false,
    "deletable": true,
    "editable": true
   },
   "outputs": [
    {
     "name": "stdout",
     "output_type": "stream",
     "text": [
      "Image Input Tests Passed.\n",
      "Label Input Tests Passed.\n",
      "Keep Prob Tests Passed.\n"
     ]
    }
   ],
   "source": [
    "import tensorflow as tf\n",
    "\n",
    "def neural_net_image_input(image_shape):\n",
    "    \"\"\"\n",
    "    Return a Tensor for a bach of image input\n",
    "    : image_shape: Shape of the images\n",
    "    : return: Tensor for image input.\n",
    "    \"\"\"\n",
    "    # TODO: Implement Function\n",
    "    p_shape = [None] + list(image_shape)\n",
    "    p = tf.placeholder(tf.float32, shape=p_shape, name='x')\n",
    "    return p\n",
    "\n",
    "\n",
    "def neural_net_label_input(n_classes):\n",
    "    \"\"\"\n",
    "    Return a Tensor for a batch of label input\n",
    "    : n_classes: Number of classes\n",
    "    : return: Tensor for label input.\n",
    "    \"\"\"\n",
    "    # TODO: Implement Function\n",
    "    p_shape = [None, n_classes]\n",
    "    p = tf.placeholder(tf.float32, shape=p_shape, name='y')\n",
    "    return p\n",
    "\n",
    "\n",
    "def neural_net_keep_prob_input():\n",
    "    \"\"\"\n",
    "    Return a Tensor for keep probability\n",
    "    : return: Tensor for keep probability.\n",
    "    \"\"\"\n",
    "    # TODO: Implement Function\n",
    "    p = tf.placeholder(tf.float32, shape=None, name='keep_prob')\n",
    "    return p\n",
    "\n",
    "\n",
    "\"\"\"\n",
    "DON'T MODIFY ANYTHING IN THIS CELL THAT IS BELOW THIS LINE\n",
    "\"\"\"\n",
    "tf.reset_default_graph()\n",
    "tests.test_nn_image_inputs(neural_net_image_input)\n",
    "tests.test_nn_label_inputs(neural_net_label_input)\n",
    "tests.test_nn_keep_prob_inputs(neural_net_keep_prob_input)"
   ]
  },
  {
   "cell_type": "markdown",
   "metadata": {
    "deletable": true,
    "editable": true
   },
   "source": [
    "### Convolution and Max Pooling Layer\n",
    "Convolution layers have a lot of success with images. For this code cell, you should implement the function `conv2d_maxpool` to apply convolution then max pooling:\n",
    "* Create the weight and bias using `conv_ksize`, `conv_num_outputs` and the shape of `x_tensor`.\n",
    "* Apply a convolution to `x_tensor` using weight and `conv_strides`.\n",
    " * We recommend you use same padding, but you're welcome to use any padding.\n",
    "* Add bias\n",
    "* Add a nonlinear activation to the convolution.\n",
    "* Apply Max Pooling using `pool_ksize` and `pool_strides`.\n",
    " * We recommend you use same padding, but you're welcome to use any padding.\n",
    "\n",
    "Note: You **can't** use [TensorFlow Layers](https://www.tensorflow.org/api_docs/python/tf/layers) or [TensorFlow Layers (contrib)](https://www.tensorflow.org/api_guides/python/contrib.layers) for this layer.  You're free to use any TensorFlow package for all the other layers."
   ]
  },
  {
   "cell_type": "code",
   "execution_count": 4,
   "metadata": {
    "collapsed": false,
    "deletable": true,
    "editable": true
   },
   "outputs": [
    {
     "name": "stdout",
     "output_type": "stream",
     "text": [
      "Tests Passed\n"
     ]
    }
   ],
   "source": [
    "def conv2d_maxpool(x_tensor, conv_num_outputs, conv_ksize, conv_strides, pool_ksize, pool_strides):\n",
    "    \"\"\"\n",
    "    Apply convolution then max pooling to x_tensor\n",
    "    :param x_tensor: TensorFlow Tensor\n",
    "    :param conv_num_outputs: Number of outputs for the convolutional layer\n",
    "    :param conv_strides: Stride 2-D Tuple for convolution\n",
    "    :param pool_ksize: kernal size 2-D Tuple for pool\n",
    "    :param pool_strides: Stride 2-D Tuple for pool\n",
    "    : return: A tensor that represents convolution and max pooling of x_tensor\n",
    "    \"\"\"\n",
    "    # TODO: Implement Function\n",
    "    \n",
    "    # Filter (weights and bias)\n",
    "    F_W = tf.Variable(tf.truncated_normal([conv_ksize[0], conv_ksize[1], int(x_tensor.shape[3]), conv_num_outputs], stddev=0.05))\n",
    "    F_b = tf.Variable(tf.zeros([conv_num_outputs]))\n",
    "    strides_conv = [1, conv_strides[0], conv_strides[1], 1]\n",
    "    padding = 'SAME'\n",
    "    # Convolution layer\n",
    "    convolution = tf.nn.conv2d(x_tensor, F_W, strides=strides_conv, padding=padding)\n",
    "    # Add bias\n",
    "    convolution = tf.nn.bias_add(convolution, F_b)\n",
    "    # ReLU - Nonlinear activation\n",
    "    relu = tf.nn.relu(convolution)\n",
    "    # Maxpool layer\n",
    "    strides_pool = [1, pool_strides[0], pool_strides[1], 1]\n",
    "    k_pool = [1, pool_ksize[0], pool_ksize[1], 1]\n",
    "    max_pool = tf.nn.max_pool(relu, ksize=k_pool, strides=strides_pool, padding=padding)\n",
    "    \n",
    "    return max_pool \n",
    "\n",
    "\n",
    "\"\"\"\n",
    "DON'T MODIFY ANYTHING IN THIS CELL THAT IS BELOW THIS LINE\n",
    "\"\"\"\n",
    "tests.test_con_pool(conv2d_maxpool)"
   ]
  },
  {
   "cell_type": "markdown",
   "metadata": {
    "deletable": true,
    "editable": true
   },
   "source": [
    "### Flatten Layer\n",
    "Implement the `flatten` function to change the dimension of `x_tensor` from a 4-D tensor to a 2-D tensor.  The output should be the shape (*Batch Size*, *Flattened Image Size*). You can use [TensorFlow Layers](https://www.tensorflow.org/api_docs/python/tf/layers) or [TensorFlow Layers (contrib)](https://www.tensorflow.org/api_guides/python/contrib.layers) for this layer."
   ]
  },
  {
   "cell_type": "code",
   "execution_count": 5,
   "metadata": {
    "collapsed": false,
    "deletable": true,
    "editable": true
   },
   "outputs": [
    {
     "name": "stdout",
     "output_type": "stream",
     "text": [
      "Tests Passed\n"
     ]
    }
   ],
   "source": [
    "def flatten(x_tensor):\n",
    "    \"\"\"\n",
    "    Flatten x_tensor to (Batch Size, Flattened Image Size)\n",
    "    : x_tensor: A tensor of size (Batch Size, ...), where ... are the image dimensions.\n",
    "    : return: A tensor of size (Batch Size, Flattened Image Size).\n",
    "    \"\"\"\n",
    "    # TODO: Implement Function\n",
    "    # print('X tensor shape: ',x_tensor.shape)\n",
    "    shape_w = x_tensor.get_shape().as_list()[1]\n",
    "    shape_h = x_tensor.get_shape().as_list()[2]\n",
    "    shape_d = x_tensor.get_shape().as_list()[3]\n",
    "\n",
    "    flatten = tf.reshape(x_tensor, [-1, shape_w*shape_h*shape_d])\n",
    "    # print('Flatten shape: ',flatten.shape)\n",
    "    \n",
    "    return flatten\n",
    "\n",
    "\n",
    "\"\"\"\n",
    "DON'T MODIFY ANYTHING IN THIS CELL THAT IS BELOW THIS LINE\n",
    "\"\"\"\n",
    "tests.test_flatten(flatten)"
   ]
  },
  {
   "cell_type": "markdown",
   "metadata": {
    "deletable": true,
    "editable": true
   },
   "source": [
    "### Fully-Connected Layer\n",
    "Implement the `fully_conn` function to apply a fully connected layer to `x_tensor` with the shape (*Batch Size*, *num_outputs*). You can use [TensorFlow Layers](https://www.tensorflow.org/api_docs/python/tf/layers) or [TensorFlow Layers (contrib)](https://www.tensorflow.org/api_guides/python/contrib.layers) for this layer."
   ]
  },
  {
   "cell_type": "code",
   "execution_count": 6,
   "metadata": {
    "collapsed": false,
    "deletable": true,
    "editable": true
   },
   "outputs": [
    {
     "name": "stdout",
     "output_type": "stream",
     "text": [
      "Tests Passed\n"
     ]
    }
   ],
   "source": [
    "def fully_conn(x_tensor, num_outputs):\n",
    "    \"\"\"\n",
    "    Apply a fully connected layer to x_tensor using weight and bias\n",
    "    : x_tensor: A 2-D tensor where the first dimension is batch size.\n",
    "    : num_outputs: The number of output that the new tensor should be.\n",
    "    : return: A 2-D tensor where the second dimension is num_outputs.\n",
    "    \"\"\"\n",
    "    # TODO: Implement Function\n",
    "    W = tf.Variable(tf.truncated_normal([x_tensor.shape.as_list()[1], num_outputs], stddev=0.05))\n",
    "    b = tf.Variable(tf.zeros([num_outputs]))\n",
    "    fc = tf.add(tf.matmul(x_tensor, W), b)\n",
    "    relu = tf.nn.relu(fc)\n",
    "    return relu\n",
    "\n",
    "\n",
    "\"\"\"\n",
    "DON'T MODIFY ANYTHING IN THIS CELL THAT IS BELOW THIS LINE\n",
    "\"\"\"\n",
    "tests.test_fully_conn(fully_conn)"
   ]
  },
  {
   "cell_type": "markdown",
   "metadata": {
    "deletable": true,
    "editable": true
   },
   "source": [
    "### Output Layer\n",
    "Implement the `output` function to apply a fully connected layer to `x_tensor` with the shape (*Batch Size*, *num_outputs*). You can use [TensorFlow Layers](https://www.tensorflow.org/api_docs/python/tf/layers) or [TensorFlow Layers (contrib)](https://www.tensorflow.org/api_guides/python/contrib.layers) for this layer.\n",
    "\n",
    "Note: Activation, softmax, or cross entropy shouldn't be applied to this."
   ]
  },
  {
   "cell_type": "code",
   "execution_count": 7,
   "metadata": {
    "collapsed": false,
    "deletable": true,
    "editable": true
   },
   "outputs": [
    {
     "name": "stdout",
     "output_type": "stream",
     "text": [
      "Tests Passed\n"
     ]
    }
   ],
   "source": [
    "def output(x_tensor, num_outputs):\n",
    "    \"\"\"\n",
    "    Apply a output layer to x_tensor using weight and bias\n",
    "    : x_tensor: A 2-D tensor where the first dimension is batch size.\n",
    "    : num_outputs: The number of output that the new tensor should be.\n",
    "    : return: A 2-D tensor where the second dimension is num_outputs.\n",
    "    \"\"\"\n",
    "    # TODO: Implement Function\n",
    "    W = tf.Variable(tf.truncated_normal([x_tensor.shape.as_list()[1], num_outputs], stddev=0.05))\n",
    "    b = tf.Variable(tf.zeros([num_outputs]))\n",
    "    fc = tf.add(tf.matmul(x_tensor, W), b)\n",
    "    return fc\n",
    "\n",
    "\n",
    "\"\"\"\n",
    "DON'T MODIFY ANYTHING IN THIS CELL THAT IS BELOW THIS LINE\n",
    "\"\"\"\n",
    "tests.test_output(output)"
   ]
  },
  {
   "cell_type": "markdown",
   "metadata": {
    "deletable": true,
    "editable": true
   },
   "source": [
    "### Create Convolutional Model\n",
    "Implement the function `conv_net` to create a convolutional neural network model. The function takes in a batch of images, `x`, and outputs logits.  Use the layers you created above to create this model:\n",
    "\n",
    "* Apply 1, 2, or 3 Convolution and Max Pool layers\n",
    "* Apply a Flatten Layer\n",
    "* Apply 1, 2, or 3 Fully Connected Layers\n",
    "* Apply an Output Layer\n",
    "* Return the output\n",
    "* Apply [TensorFlow's Dropout](https://www.tensorflow.org/api_docs/python/tf/nn/dropout) to one or more layers in the model using `keep_prob`. "
   ]
  },
  {
   "cell_type": "code",
   "execution_count": 8,
   "metadata": {
    "collapsed": false,
    "deletable": true,
    "editable": true
   },
   "outputs": [
    {
     "name": "stdout",
     "output_type": "stream",
     "text": [
      "Neural Network Built!\n"
     ]
    }
   ],
   "source": [
    "def conv_net(x, keep_prob):\n",
    "    \"\"\"\n",
    "    Create a convolutional neural network model\n",
    "    : x: Placeholder tensor that holds image data.\n",
    "    : keep_prob: Placeholder tensor that hold dropout keep probability.\n",
    "    : return: Tensor that represents logits\n",
    "    \"\"\"\n",
    "    # TODO: Apply 1, 2, or 3 Convolution and Max Pool layers\n",
    "    #    Play around with different number of outputs, kernel size and stride\n",
    "    # Function Definition from Above:\n",
    "    #    conv2d_maxpool(x_tensor, conv_num_outputs, conv_ksize, conv_strides, pool_ksize, pool_strides)\n",
    "    \n",
    "    # [MU] Note: I need to cast the x tensor to avoid an error later.\n",
    "    conv_max = conv2d_maxpool(tf.cast(x, tf.float32), 64, (2,2), (2,2), (2,2), (2,2))\n",
    "    conv_max = tf.nn.dropout(conv_max, keep_prob)\n",
    "    conv_max = conv2d_maxpool(conv_max, 128, (2,2), (2,2), (2,2), (2,2))\n",
    "    conv_max = tf.nn.dropout(conv_max, keep_prob)\n",
    "    conv_max = conv2d_maxpool(conv_max, 512, (5,5), (2,2), (2,2), (2,2))\n",
    "    conv_max = tf.nn.dropout(conv_max, keep_prob)\n",
    "    \n",
    "    # TODO: Apply a Flatten Layer\n",
    "    # Function Definition from Above:\n",
    "    #   flatten(x_tensor)\n",
    "    flat = flatten(conv_max)\n",
    "\n",
    "    # TODO: Apply 1, 2, or 3 Fully Connected Layers\n",
    "    #    Play around with different number of outputs\n",
    "    # Function Definition from Above:\n",
    "    #   fully_conn(x_tensor, num_outputs)\n",
    "    fc = fully_conn(flat, 256)\n",
    "    fc = tf.nn.dropout(fc, keep_prob)\n",
    "    \n",
    "    # TODO: Apply an Output Layer\n",
    "    #    Set this to the number of classes\n",
    "    # Function Definition from Above:\n",
    "    #   output(x_tensor, num_outputs)\n",
    "    out = output(fc, 10)\n",
    "    \n",
    "    # TODO: return output\n",
    "    return out\n",
    "\n",
    "\n",
    "\"\"\"\n",
    "DON'T MODIFY ANYTHING IN THIS CELL THAT IS BELOW THIS LINE\n",
    "\"\"\"\n",
    "\n",
    "##############################\n",
    "## Build the Neural Network ##\n",
    "##############################\n",
    "\n",
    "# Remove previous weights, bias, inputs, etc..\n",
    "tf.reset_default_graph()\n",
    "\n",
    "# Inputs\n",
    "x = neural_net_image_input((32, 32, 3))\n",
    "y = neural_net_label_input(10)\n",
    "keep_prob = neural_net_keep_prob_input()\n",
    "\n",
    "# Model\n",
    "logits = conv_net(x, keep_prob)\n",
    "\n",
    "# Name logits Tensor, so that is can be loaded from disk after training\n",
    "logits = tf.identity(logits, name='logits')\n",
    "\n",
    "# Loss and Optimizer\n",
    "cost = tf.reduce_mean(tf.nn.softmax_cross_entropy_with_logits(logits=logits, labels=y))\n",
    "optimizer = tf.train.AdamOptimizer().minimize(cost)\n",
    "\n",
    "# Accuracy\n",
    "correct_pred = tf.equal(tf.argmax(logits, 1), tf.argmax(y, 1))\n",
    "accuracy = tf.reduce_mean(tf.cast(correct_pred, tf.float32), name='accuracy')\n",
    "\n",
    "tests.test_conv_net(conv_net)"
   ]
  },
  {
   "cell_type": "markdown",
   "metadata": {
    "deletable": true,
    "editable": true
   },
   "source": [
    "## Train the Neural Network\n",
    "### Single Optimization\n",
    "Implement the function `train_neural_network` to do a single optimization.  The optimization should use `optimizer` to optimize in `session` with a `feed_dict` of the following:\n",
    "* `x` for image input\n",
    "* `y` for labels\n",
    "* `keep_prob` for keep probability for dropout\n",
    "\n",
    "This function will be called for each batch, so `tf.global_variables_initializer()` has already been called.\n",
    "\n",
    "Note: Nothing needs to be returned. This function is only optimizing the neural network."
   ]
  },
  {
   "cell_type": "code",
   "execution_count": 9,
   "metadata": {
    "collapsed": false,
    "deletable": true,
    "editable": true
   },
   "outputs": [
    {
     "name": "stdout",
     "output_type": "stream",
     "text": [
      "Tests Passed\n"
     ]
    }
   ],
   "source": [
    "def train_neural_network(session, optimizer, keep_probability, feature_batch, label_batch):\n",
    "    \"\"\"\n",
    "    Optimize the session on a batch of images and labels\n",
    "    : session: Current TensorFlow session\n",
    "    : optimizer: TensorFlow optimizer function\n",
    "    : keep_probability: keep probability\n",
    "    : feature_batch: Batch of Numpy image data\n",
    "    : label_batch: Batch of Numpy label data\n",
    "    \"\"\"\n",
    "    # TODO: Implement Function\n",
    "    return session.run(optimizer, feed_dict={keep_prob:keep_probability, x:feature_batch, y:label_batch})\n",
    "\n",
    "\n",
    "\"\"\"\n",
    "DON'T MODIFY ANYTHING IN THIS CELL THAT IS BELOW THIS LINE\n",
    "\"\"\"\n",
    "tests.test_train_nn(train_neural_network)"
   ]
  },
  {
   "cell_type": "markdown",
   "metadata": {
    "deletable": true,
    "editable": true
   },
   "source": [
    "### Show Stats\n",
    "Implement the function `print_stats` to print loss and validation accuracy.  Use the global variables `valid_features` and `valid_labels` to calculate validation accuracy.  Use a keep probability of `1.0` to calculate the loss and validation accuracy."
   ]
  },
  {
   "cell_type": "code",
   "execution_count": 10,
   "metadata": {
    "collapsed": false,
    "deletable": true,
    "editable": true
   },
   "outputs": [],
   "source": [
    "def print_stats(session, feature_batch, label_batch, cost, accuracy):\n",
    "    \"\"\"\n",
    "    Print information about loss and validation accuracy\n",
    "    : session: Current TensorFlow session\n",
    "    : feature_batch: Batch of Numpy image data\n",
    "    : label_batch: Batch of Numpy label data\n",
    "    : cost: TensorFlow cost function\n",
    "    : accuracy: TensorFlow accuracy function\n",
    "    \"\"\"\n",
    "    # TODO: Implement Function\n",
    "    cost_value = sess.run(cost, feed_dict={x: batch_features, y: batch_labels, keep_prob: 1.})\n",
    "    accuracy_value = sess.run(accuracy, feed_dict={x: valid_features, y: valid_labels,\n",
    "                keep_prob: 1.})\n",
    "    \n",
    "    print('Loss ', cost_value)\n",
    "    print('validation accuracy ', accuracy_value)\n",
    "    \n",
    "    # [MU] save loss and accuracy to plot later\n",
    "    losses.append(cost_value)\n",
    "    accuracies.append(accuracy_value)"
   ]
  },
  {
   "cell_type": "markdown",
   "metadata": {
    "deletable": true,
    "editable": true
   },
   "source": [
    "### Hyperparameters\n",
    "Tune the following parameters:\n",
    "* Set `epochs` to the number of iterations until the network stops learning or start overfitting\n",
    "* Set `batch_size` to the highest number that your machine has memory for.  Most people set them to common sizes of memory:\n",
    " * 64\n",
    " * 128\n",
    " * 256\n",
    " * ...\n",
    "* Set `keep_probability` to the probability of keeping a node using dropout"
   ]
  },
  {
   "cell_type": "code",
   "execution_count": 12,
   "metadata": {
    "collapsed": true,
    "deletable": true,
    "editable": true
   },
   "outputs": [],
   "source": [
    "# TODO: Tune Parameters\n",
    "epochs = 50\n",
    "batch_size = 256\n",
    "keep_probability = 0.5"
   ]
  },
  {
   "cell_type": "markdown",
   "metadata": {
    "deletable": true,
    "editable": true
   },
   "source": [
    "### Train on a Single CIFAR-10 Batch\n",
    "Instead of training the neural network on all the CIFAR-10 batches of data, let's use a single batch. This should save time while you iterate on the model to get a better accuracy.  Once the final validation accuracy is 50% or greater, run the model on all the data in the next section."
   ]
  },
  {
   "cell_type": "code",
   "execution_count": 13,
   "metadata": {
    "collapsed": false,
    "deletable": true,
    "editable": true
   },
   "outputs": [
    {
     "name": "stdout",
     "output_type": "stream",
     "text": [
      "Checking the Training on a Single Batch...\n",
      "Epoch  1, CIFAR-10 Batch 1:  Loss  2.26062\n",
      "validation accuracy  0.1462\n",
      "Epoch  2, CIFAR-10 Batch 1:  Loss  2.17367\n",
      "validation accuracy  0.2208\n",
      "Epoch  3, CIFAR-10 Batch 1:  Loss  2.11456\n",
      "validation accuracy  0.2524\n",
      "Epoch  4, CIFAR-10 Batch 1:  Loss  2.08259\n",
      "validation accuracy  0.2698\n",
      "Epoch  5, CIFAR-10 Batch 1:  Loss  2.02753\n",
      "validation accuracy  0.278\n",
      "Epoch  6, CIFAR-10 Batch 1:  Loss  1.96857\n",
      "validation accuracy  0.3186\n",
      "Epoch  7, CIFAR-10 Batch 1:  Loss  1.87685\n",
      "validation accuracy  0.338\n",
      "Epoch  8, CIFAR-10 Batch 1:  Loss  1.83083\n",
      "validation accuracy  0.3628\n",
      "Epoch  9, CIFAR-10 Batch 1:  Loss  1.80484\n",
      "validation accuracy  0.3658\n",
      "Epoch 10, CIFAR-10 Batch 1:  Loss  1.7615\n",
      "validation accuracy  0.366\n",
      "Epoch 11, CIFAR-10 Batch 1:  Loss  1.71508\n",
      "validation accuracy  0.3848\n",
      "Epoch 12, CIFAR-10 Batch 1:  Loss  1.7484\n",
      "validation accuracy  0.3916\n",
      "Epoch 13, CIFAR-10 Batch 1:  Loss  1.68532\n",
      "validation accuracy  0.3972\n",
      "Epoch 14, CIFAR-10 Batch 1:  Loss  1.65954\n",
      "validation accuracy  0.4056\n",
      "Epoch 15, CIFAR-10 Batch 1:  Loss  1.63693\n",
      "validation accuracy  0.4178\n",
      "Epoch 16, CIFAR-10 Batch 1:  Loss  1.59316\n",
      "validation accuracy  0.4246\n",
      "Epoch 17, CIFAR-10 Batch 1:  Loss  1.56021\n",
      "validation accuracy  0.4276\n",
      "Epoch 18, CIFAR-10 Batch 1:  Loss  1.50203\n",
      "validation accuracy  0.4338\n",
      "Epoch 19, CIFAR-10 Batch 1:  Loss  1.48154\n",
      "validation accuracy  0.431\n",
      "Epoch 20, CIFAR-10 Batch 1:  Loss  1.44576\n",
      "validation accuracy  0.4406\n",
      "Epoch 21, CIFAR-10 Batch 1:  Loss  1.41521\n",
      "validation accuracy  0.4398\n",
      "Epoch 22, CIFAR-10 Batch 1:  Loss  1.37853\n",
      "validation accuracy  0.443\n",
      "Epoch 23, CIFAR-10 Batch 1:  Loss  1.37257\n",
      "validation accuracy  0.4496\n",
      "Epoch 24, CIFAR-10 Batch 1:  Loss  1.37045\n",
      "validation accuracy  0.446\n",
      "Epoch 25, CIFAR-10 Batch 1:  Loss  1.30615\n",
      "validation accuracy  0.4532\n",
      "Epoch 26, CIFAR-10 Batch 1:  Loss  1.27279\n",
      "validation accuracy  0.46\n",
      "Epoch 27, CIFAR-10 Batch 1:  Loss  1.2869\n",
      "validation accuracy  0.459\n",
      "Epoch 28, CIFAR-10 Batch 1:  Loss  1.25531\n",
      "validation accuracy  0.4572\n",
      "Epoch 29, CIFAR-10 Batch 1:  Loss  1.19334\n",
      "validation accuracy  0.4662\n",
      "Epoch 30, CIFAR-10 Batch 1:  Loss  1.23388\n",
      "validation accuracy  0.461\n",
      "Epoch 31, CIFAR-10 Batch 1:  Loss  1.17476\n",
      "validation accuracy  0.467\n",
      "Epoch 32, CIFAR-10 Batch 1:  Loss  1.16508\n",
      "validation accuracy  0.472\n",
      "Epoch 33, CIFAR-10 Batch 1:  Loss  1.14597\n",
      "validation accuracy  0.4632\n",
      "Epoch 34, CIFAR-10 Batch 1:  Loss  1.16325\n",
      "validation accuracy  0.465\n",
      "Epoch 35, CIFAR-10 Batch 1:  Loss  1.09426\n",
      "validation accuracy  0.481\n",
      "Epoch 36, CIFAR-10 Batch 1:  Loss  1.09606\n",
      "validation accuracy  0.4732\n",
      "Epoch 37, CIFAR-10 Batch 1:  Loss  1.12027\n",
      "validation accuracy  0.4666\n",
      "Epoch 38, CIFAR-10 Batch 1:  Loss  1.06592\n",
      "validation accuracy  0.4868\n",
      "Epoch 39, CIFAR-10 Batch 1:  Loss  1.05025\n",
      "validation accuracy  0.485\n",
      "Epoch 40, CIFAR-10 Batch 1:  Loss  1.04019\n",
      "validation accuracy  0.4892\n",
      "Epoch 41, CIFAR-10 Batch 1:  Loss  0.986617\n",
      "validation accuracy  0.4898\n",
      "Epoch 42, CIFAR-10 Batch 1:  Loss  1.00792\n",
      "validation accuracy  0.4874\n",
      "Epoch 43, CIFAR-10 Batch 1:  Loss  0.958923\n",
      "validation accuracy  0.4956\n",
      "Epoch 44, CIFAR-10 Batch 1:  Loss  0.98651\n",
      "validation accuracy  0.4872\n",
      "Epoch 45, CIFAR-10 Batch 1:  Loss  0.938139\n",
      "validation accuracy  0.494\n",
      "Epoch 46, CIFAR-10 Batch 1:  Loss  0.909219\n",
      "validation accuracy  0.4928\n",
      "Epoch 47, CIFAR-10 Batch 1:  Loss  0.893343\n",
      "validation accuracy  0.4962\n",
      "Epoch 48, CIFAR-10 Batch 1:  Loss  0.901248\n",
      "validation accuracy  0.5032\n",
      "Epoch 49, CIFAR-10 Batch 1:  Loss  0.879462\n",
      "validation accuracy  0.5072\n",
      "Epoch 50, CIFAR-10 Batch 1:  Loss  0.871162\n",
      "validation accuracy  0.5072\n"
     ]
    }
   ],
   "source": [
    "# [MU] reset loss and accuracy to plot\n",
    "losses = []\n",
    "accuracies = []\n",
    "\n",
    "\"\"\"\n",
    "DON'T MODIFY ANYTHING IN THIS CELL\n",
    "\"\"\"\n",
    "print('Checking the Training on a Single Batch...')\n",
    "with tf.Session() as sess:\n",
    "    # Initializing the variables\n",
    "    sess.run(tf.global_variables_initializer())\n",
    "    \n",
    "    # Training cycle\n",
    "    for epoch in range(epochs):\n",
    "        batch_i = 1\n",
    "        for batch_features, batch_labels in helper.load_preprocess_training_batch(batch_i, batch_size):\n",
    "            train_neural_network(sess, optimizer, keep_probability, batch_features, batch_labels)\n",
    "        print('Epoch {:>2}, CIFAR-10 Batch {}:  '.format(epoch + 1, batch_i), end='')\n",
    "        print_stats(sess, batch_features, batch_labels, cost, accuracy)"
   ]
  },
  {
   "cell_type": "code",
   "execution_count": 14,
   "metadata": {
    "collapsed": false,
    "deletable": true,
    "editable": true
   },
   "outputs": [
    {
     "data": {
      "text/plain": [
       "<matplotlib.legend.Legend at 0x7fa1605b0cc0>"
      ]
     },
     "execution_count": 14,
     "metadata": {},
     "output_type": "execute_result"
    },
    {
     "data": {
      "image/png": "[encoded data removed]",
      "text/plain": [
       "<matplotlib.figure.Figure at 0x7fa0fa5feba8>"
      ]
     },
     "metadata": {
      "image/png": {
       "height": 250,
       "width": 373
      }
     },
     "output_type": "display_data"
    }
   ],
   "source": [
    "# [MU] plot loss and accuracy\n",
    "%matplotlib inline\n",
    "%config InlineBackend.figure_format = 'retina'\n",
    "\n",
    "import matplotlib.pyplot as plt\n",
    "\n",
    "plt.plot(losses, label='Training loss', c='blue')\n",
    "plt.plot(accuracies, label='Validation accuracy', c='orange')\n",
    "plt.legend()"
   ]
  },
  {
   "cell_type": "markdown",
   "metadata": {
    "deletable": true,
    "editable": true
   },
   "source": [
    "### Fully Train the Model\n",
    "Now that you got a good accuracy with a single CIFAR-10 batch, try it with all five batches."
   ]
  },
  {
   "cell_type": "code",
   "execution_count": 15,
   "metadata": {
    "collapsed": false,
    "deletable": true,
    "editable": true
   },
   "outputs": [
    {
     "name": "stdout",
     "output_type": "stream",
     "text": [
      "Training...\n",
      "Epoch  1, CIFAR-10 Batch 1:  Loss  2.26412\n",
      "validation accuracy  0.15\n",
      "Epoch  1, CIFAR-10 Batch 2:  Loss  2.13758\n",
      "validation accuracy  0.2366\n",
      "Epoch  1, CIFAR-10 Batch 3:  Loss  2.0029\n",
      "validation accuracy  0.2234\n",
      "Epoch  1, CIFAR-10 Batch 4:  Loss  1.94366\n",
      "validation accuracy  0.2778\n",
      "Epoch  1, CIFAR-10 Batch 5:  Loss  1.95432\n",
      "validation accuracy  0.3202\n",
      "Epoch  2, CIFAR-10 Batch 1:  Loss  1.93283\n",
      "validation accuracy  0.3398\n",
      "Epoch  2, CIFAR-10 Batch 2:  Loss  1.75453\n",
      "validation accuracy  0.3474\n",
      "Epoch  2, CIFAR-10 Batch 3:  Loss  1.70812\n",
      "validation accuracy  0.3328\n",
      "Epoch  2, CIFAR-10 Batch 4:  Loss  1.7122\n",
      "validation accuracy  0.3496\n",
      "Epoch  2, CIFAR-10 Batch 5:  Loss  1.79009\n",
      "validation accuracy  0.3782\n",
      "Epoch  3, CIFAR-10 Batch 1:  Loss  1.83534\n",
      "validation accuracy  0.399\n",
      "Epoch  3, CIFAR-10 Batch 2:  Loss  1.65662\n",
      "validation accuracy  0.3856\n",
      "Epoch  3, CIFAR-10 Batch 3:  Loss  1.56834\n",
      "validation accuracy  0.3818\n",
      "Epoch  3, CIFAR-10 Batch 4:  Loss  1.62913\n",
      "validation accuracy  0.4106\n",
      "Epoch  3, CIFAR-10 Batch 5:  Loss  1.73273\n",
      "validation accuracy  0.3982\n",
      "Epoch  4, CIFAR-10 Batch 1:  Loss  1.75139\n",
      "validation accuracy  0.426\n",
      "Epoch  4, CIFAR-10 Batch 2:  Loss  1.59096\n",
      "validation accuracy  0.42\n",
      "Epoch  4, CIFAR-10 Batch 3:  Loss  1.45125\n",
      "validation accuracy  0.4292\n",
      "Epoch  4, CIFAR-10 Batch 4:  Loss  1.57309\n",
      "validation accuracy  0.4338\n",
      "Epoch  4, CIFAR-10 Batch 5:  Loss  1.62832\n",
      "validation accuracy  0.435\n",
      "Epoch  5, CIFAR-10 Batch 1:  Loss  1.63888\n",
      "validation accuracy  0.451\n",
      "Epoch  5, CIFAR-10 Batch 2:  Loss  1.5305\n",
      "validation accuracy  0.445\n",
      "Epoch  5, CIFAR-10 Batch 3:  Loss  1.35523\n",
      "validation accuracy  0.4496\n",
      "Epoch  5, CIFAR-10 Batch 4:  Loss  1.47585\n",
      "validation accuracy  0.4654\n",
      "Epoch  5, CIFAR-10 Batch 5:  Loss  1.57966\n",
      "validation accuracy  0.461\n",
      "Epoch  6, CIFAR-10 Batch 1:  Loss  1.55821\n",
      "validation accuracy  0.471\n",
      "Epoch  6, CIFAR-10 Batch 2:  Loss  1.52602\n",
      "validation accuracy  0.4722\n",
      "Epoch  6, CIFAR-10 Batch 3:  Loss  1.33409\n",
      "validation accuracy  0.4664\n",
      "Epoch  6, CIFAR-10 Batch 4:  Loss  1.44004\n",
      "validation accuracy  0.4772\n",
      "Epoch  6, CIFAR-10 Batch 5:  Loss  1.54706\n",
      "validation accuracy  0.463\n",
      "Epoch  7, CIFAR-10 Batch 1:  Loss  1.49764\n",
      "validation accuracy  0.4788\n",
      "Epoch  7, CIFAR-10 Batch 2:  Loss  1.4985\n",
      "validation accuracy  0.4818\n",
      "Epoch  7, CIFAR-10 Batch 3:  Loss  1.27326\n",
      "validation accuracy  0.4748\n",
      "Epoch  7, CIFAR-10 Batch 4:  Loss  1.41373\n",
      "validation accuracy  0.4852\n",
      "Epoch  7, CIFAR-10 Batch 5:  Loss  1.47824\n",
      "validation accuracy  0.486\n",
      "Epoch  8, CIFAR-10 Batch 1:  Loss  1.41232\n",
      "validation accuracy  0.4938\n",
      "Epoch  8, CIFAR-10 Batch 2:  Loss  1.4355\n",
      "validation accuracy  0.49\n",
      "Epoch  8, CIFAR-10 Batch 3:  Loss  1.27569\n",
      "validation accuracy  0.4852\n",
      "Epoch  8, CIFAR-10 Batch 4:  Loss  1.36637\n",
      "validation accuracy  0.5012\n",
      "Epoch  8, CIFAR-10 Batch 5:  Loss  1.44111\n",
      "validation accuracy  0.4878\n",
      "Epoch  9, CIFAR-10 Batch 1:  Loss  1.44536\n",
      "validation accuracy  0.4876\n",
      "Epoch  9, CIFAR-10 Batch 2:  Loss  1.40981\n",
      "validation accuracy  0.4926\n",
      "Epoch  9, CIFAR-10 Batch 3:  Loss  1.21122\n",
      "validation accuracy  0.4898\n",
      "Epoch  9, CIFAR-10 Batch 4:  Loss  1.28729\n",
      "validation accuracy  0.4998\n",
      "Epoch  9, CIFAR-10 Batch 5:  Loss  1.44319\n",
      "validation accuracy  0.4828\n",
      "Epoch 10, CIFAR-10 Batch 1:  Loss  1.40017\n",
      "validation accuracy  0.503\n",
      "Epoch 10, CIFAR-10 Batch 2:  Loss  1.36549\n",
      "validation accuracy  0.4992\n",
      "Epoch 10, CIFAR-10 Batch 3:  Loss  1.16101\n",
      "validation accuracy  0.5092\n",
      "Epoch 10, CIFAR-10 Batch 4:  Loss  1.26468\n",
      "validation accuracy  0.5108\n",
      "Epoch 10, CIFAR-10 Batch 5:  Loss  1.36902\n",
      "validation accuracy  0.5054\n",
      "Epoch 11, CIFAR-10 Batch 1:  Loss  1.35924\n",
      "validation accuracy  0.5074\n",
      "Epoch 11, CIFAR-10 Batch 2:  Loss  1.35217\n",
      "validation accuracy  0.5106\n",
      "Epoch 11, CIFAR-10 Batch 3:  Loss  1.17005\n",
      "validation accuracy  0.504\n",
      "Epoch 11, CIFAR-10 Batch 4:  Loss  1.26059\n",
      "validation accuracy  0.5058\n",
      "Epoch 11, CIFAR-10 Batch 5:  Loss  1.38557\n",
      "validation accuracy  0.493\n",
      "Epoch 12, CIFAR-10 Batch 1:  Loss  1.33427\n",
      "validation accuracy  0.5082\n",
      "Epoch 12, CIFAR-10 Batch 2:  Loss  1.32467\n",
      "validation accuracy  0.5008\n",
      "Epoch 12, CIFAR-10 Batch 3:  Loss  1.13417\n",
      "validation accuracy  0.5154\n",
      "Epoch 12, CIFAR-10 Batch 4:  Loss  1.21273\n",
      "validation accuracy  0.5208\n",
      "Epoch 12, CIFAR-10 Batch 5:  Loss  1.32142\n",
      "validation accuracy  0.5102\n",
      "Epoch 13, CIFAR-10 Batch 1:  Loss  1.33501\n",
      "validation accuracy  0.5132\n",
      "Epoch 13, CIFAR-10 Batch 2:  Loss  1.3304\n",
      "validation accuracy  0.5182\n",
      "Epoch 13, CIFAR-10 Batch 3:  Loss  1.10575\n",
      "validation accuracy  0.5228\n",
      "Epoch 13, CIFAR-10 Batch 4:  Loss  1.21776\n",
      "validation accuracy  0.5286\n",
      "Epoch 13, CIFAR-10 Batch 5:  Loss  1.27263\n",
      "validation accuracy  0.519\n",
      "Epoch 14, CIFAR-10 Batch 1:  Loss  1.26582\n",
      "validation accuracy  0.5218\n",
      "Epoch 14, CIFAR-10 Batch 2:  Loss  1.33761\n",
      "validation accuracy  0.523\n",
      "Epoch 14, CIFAR-10 Batch 3:  Loss  1.09489\n",
      "validation accuracy  0.5264\n",
      "Epoch 14, CIFAR-10 Batch 4:  Loss  1.17757\n",
      "validation accuracy  0.5248\n",
      "Epoch 14, CIFAR-10 Batch 5:  Loss  1.26048\n",
      "validation accuracy  0.5222\n",
      "Epoch 15, CIFAR-10 Batch 1:  Loss  1.3536\n",
      "validation accuracy  0.5082\n",
      "Epoch 15, CIFAR-10 Batch 2:  Loss  1.26339\n",
      "validation accuracy  0.5286\n",
      "Epoch 15, CIFAR-10 Batch 3:  Loss  1.05387\n",
      "validation accuracy  0.527\n",
      "Epoch 15, CIFAR-10 Batch 4:  Loss  1.16667\n",
      "validation accuracy  0.519\n",
      "Epoch 15, CIFAR-10 Batch 5:  Loss  1.2506\n",
      "validation accuracy  0.512\n",
      "Epoch 16, CIFAR-10 Batch 1:  Loss  1.22913\n",
      "validation accuracy  0.5254\n",
      "Epoch 16, CIFAR-10 Batch 2:  Loss  1.24897\n",
      "validation accuracy  0.5278\n",
      "Epoch 16, CIFAR-10 Batch 3:  Loss  1.03134\n",
      "validation accuracy  0.5322\n",
      "Epoch 16, CIFAR-10 Batch 4:  Loss  1.1115\n",
      "validation accuracy  0.5372\n",
      "Epoch 16, CIFAR-10 Batch 5:  Loss  1.19442\n",
      "validation accuracy  0.5218\n",
      "Epoch 17, CIFAR-10 Batch 1:  Loss  1.23195\n",
      "validation accuracy  0.517\n",
      "Epoch 17, CIFAR-10 Batch 2:  Loss  1.23406\n",
      "validation accuracy  0.532\n",
      "Epoch 17, CIFAR-10 Batch 3:  Loss  1.04009\n",
      "validation accuracy  0.5274\n",
      "Epoch 17, CIFAR-10 Batch 4:  Loss  1.09253\n",
      "validation accuracy  0.5388\n",
      "Epoch 17, CIFAR-10 Batch 5:  Loss  1.14764\n",
      "validation accuracy  0.5274\n",
      "Epoch 18, CIFAR-10 Batch 1:  Loss  1.18496\n",
      "validation accuracy  0.5382\n",
      "Epoch 18, CIFAR-10 Batch 2:  Loss  1.22521\n",
      "validation accuracy  0.5338\n",
      "Epoch 18, CIFAR-10 Batch 3:  Loss  1.0134\n",
      "validation accuracy  0.5418\n",
      "Epoch 18, CIFAR-10 Batch 4:  Loss  1.09922\n",
      "validation accuracy  0.5338\n",
      "Epoch 18, CIFAR-10 Batch 5:  Loss  1.25338\n",
      "validation accuracy  0.4918\n",
      "Epoch 19, CIFAR-10 Batch 1:  Loss  1.1735\n",
      "validation accuracy  0.5288\n",
      "Epoch 19, CIFAR-10 Batch 2:  Loss  1.24863\n",
      "validation accuracy  0.5348\n",
      "Epoch 19, CIFAR-10 Batch 3:  Loss  1.00436\n",
      "validation accuracy  0.5486\n",
      "Epoch 19, CIFAR-10 Batch 4:  Loss  1.08017\n",
      "validation accuracy  0.5388\n",
      "Epoch 19, CIFAR-10 Batch 5:  Loss  1.13474\n",
      "validation accuracy  0.5254\n",
      "Epoch 20, CIFAR-10 Batch 1:  Loss  1.11901\n",
      "validation accuracy  0.5432\n",
      "Epoch 20, CIFAR-10 Batch 2:  Loss  1.23626\n",
      "validation accuracy  0.5406\n",
      "Epoch 20, CIFAR-10 Batch 3:  Loss  1.01184\n",
      "validation accuracy  0.5394\n",
      "Epoch 20, CIFAR-10 Batch 4:  Loss  1.05995\n",
      "validation accuracy  0.542\n",
      "Epoch 20, CIFAR-10 Batch 5:  Loss  1.1231\n",
      "validation accuracy  0.521\n",
      "Epoch 21, CIFAR-10 Batch 1:  Loss  1.16473\n",
      "validation accuracy  0.549\n",
      "Epoch 21, CIFAR-10 Batch 2:  Loss  1.16592\n",
      "validation accuracy  0.5454\n",
      "Epoch 21, CIFAR-10 Batch 3:  Loss  0.977127\n",
      "validation accuracy  0.5434\n",
      "Epoch 21, CIFAR-10 Batch 4:  Loss  1.06629\n",
      "validation accuracy  0.5398\n",
      "Epoch 21, CIFAR-10 Batch 5:  Loss  1.08836\n",
      "validation accuracy  0.5312\n",
      "Epoch 22, CIFAR-10 Batch 1:  Loss  1.12694\n",
      "validation accuracy  0.5432\n",
      "Epoch 22, CIFAR-10 Batch 2:  Loss  1.13646\n",
      "validation accuracy  0.5526\n",
      "Epoch 22, CIFAR-10 Batch 3:  Loss  0.959289\n",
      "validation accuracy  0.54\n",
      "Epoch 22, CIFAR-10 Batch 4:  Loss  1.06146\n",
      "validation accuracy  0.5448\n",
      "Epoch 22, CIFAR-10 Batch 5:  Loss  1.08365\n",
      "validation accuracy  0.5284\n",
      "Epoch 23, CIFAR-10 Batch 1:  Loss  1.10856\n",
      "validation accuracy  0.5452\n",
      "Epoch 23, CIFAR-10 Batch 2:  Loss  1.22296\n",
      "validation accuracy  0.5374\n",
      "Epoch 23, CIFAR-10 Batch 3:  Loss  0.926378\n",
      "validation accuracy  0.5506\n",
      "Epoch 23, CIFAR-10 Batch 4:  Loss  0.981447\n",
      "validation accuracy  0.551\n",
      "Epoch 23, CIFAR-10 Batch 5:  Loss  1.02378\n",
      "validation accuracy  0.548\n",
      "Epoch 24, CIFAR-10 Batch 1:  Loss  1.10977\n",
      "validation accuracy  0.5482\n",
      "Epoch 24, CIFAR-10 Batch 2:  Loss  1.10224\n",
      "validation accuracy  0.5566\n",
      "Epoch 24, CIFAR-10 Batch 3:  Loss  0.944034\n",
      "validation accuracy  0.5504\n",
      "Epoch 24, CIFAR-10 Batch 4:  Loss  0.949975\n",
      "validation accuracy  0.558\n",
      "Epoch 24, CIFAR-10 Batch 5:  Loss  1.0525\n",
      "validation accuracy  0.5392\n",
      "Epoch 25, CIFAR-10 Batch 1:  Loss  1.08241\n",
      "validation accuracy  0.5412\n",
      "Epoch 25, CIFAR-10 Batch 2:  Loss  1.14471\n",
      "validation accuracy  0.5428\n",
      "Epoch 25, CIFAR-10 Batch 3:  Loss  0.927683\n",
      "validation accuracy  0.5558\n",
      "Epoch 25, CIFAR-10 Batch 4:  Loss  0.998153\n",
      "validation accuracy  0.5444\n",
      "Epoch 25, CIFAR-10 Batch 5:  Loss  0.998572\n",
      "validation accuracy  0.546\n",
      "Epoch 26, CIFAR-10 Batch 1:  Loss  1.0619\n",
      "validation accuracy  0.5484\n",
      "Epoch 26, CIFAR-10 Batch 2:  Loss  1.1057\n",
      "validation accuracy  0.5594\n",
      "Epoch 26, CIFAR-10 Batch 3:  Loss  0.924097\n",
      "validation accuracy  0.5546\n",
      "Epoch 26, CIFAR-10 Batch 4:  Loss  0.937486\n",
      "validation accuracy  0.555\n",
      "Epoch 26, CIFAR-10 Batch 5:  Loss  1.00542\n",
      "validation accuracy  0.5482\n",
      "Epoch 27, CIFAR-10 Batch 1:  Loss  1.03131\n",
      "validation accuracy  0.559\n",
      "Epoch 27, CIFAR-10 Batch 2:  Loss  1.0678\n",
      "validation accuracy  0.5662\n",
      "Epoch 27, CIFAR-10 Batch 3:  Loss  0.904186\n",
      "validation accuracy  0.5622\n",
      "Epoch 27, CIFAR-10 Batch 4:  Loss  0.986583\n",
      "validation accuracy  0.554\n",
      "Epoch 27, CIFAR-10 Batch 5:  Loss  1.00516\n",
      "validation accuracy  0.5514\n",
      "Epoch 28, CIFAR-10 Batch 1:  Loss  1.03091\n",
      "validation accuracy  0.5644\n",
      "Epoch 28, CIFAR-10 Batch 2:  Loss  1.03991\n",
      "validation accuracy  0.5644\n",
      "Epoch 28, CIFAR-10 Batch 3:  Loss  0.889842\n",
      "validation accuracy  0.5676\n",
      "Epoch 28, CIFAR-10 Batch 4:  Loss  0.926097\n",
      "validation accuracy  0.555\n",
      "Epoch 28, CIFAR-10 Batch 5:  Loss  0.966578\n",
      "validation accuracy  0.5608\n",
      "Epoch 29, CIFAR-10 Batch 1:  Loss  1.13399\n",
      "validation accuracy  0.5548\n",
      "Epoch 29, CIFAR-10 Batch 2:  Loss  1.04261\n",
      "validation accuracy  0.56\n",
      "Epoch 29, CIFAR-10 Batch 3:  Loss  0.898745\n",
      "validation accuracy  0.5566\n",
      "Epoch 29, CIFAR-10 Batch 4:  Loss  0.923254\n",
      "validation accuracy  0.5636\n",
      "Epoch 29, CIFAR-10 Batch 5:  Loss  0.94676\n",
      "validation accuracy  0.564\n",
      "Epoch 30, CIFAR-10 Batch 1:  Loss  1.03274\n",
      "validation accuracy  0.5706\n",
      "Epoch 30, CIFAR-10 Batch 2:  Loss  1.02604\n",
      "validation accuracy  0.5668\n",
      "Epoch 30, CIFAR-10 Batch 3:  Loss  0.892359\n",
      "validation accuracy  0.5668\n",
      "Epoch 30, CIFAR-10 Batch 4:  Loss  0.862984\n",
      "validation accuracy  0.5632\n",
      "Epoch 30, CIFAR-10 Batch 5:  Loss  0.929956\n",
      "validation accuracy  0.5716\n",
      "Epoch 31, CIFAR-10 Batch 1:  Loss  0.979102\n",
      "validation accuracy  0.5658\n",
      "Epoch 31, CIFAR-10 Batch 2:  Loss  1.03531\n",
      "validation accuracy  0.571\n",
      "Epoch 31, CIFAR-10 Batch 3:  Loss  0.890782\n",
      "validation accuracy  0.564\n",
      "Epoch 31, CIFAR-10 Batch 4:  Loss  0.857266\n",
      "validation accuracy  0.5668\n",
      "Epoch 31, CIFAR-10 Batch 5:  Loss  0.925568\n",
      "validation accuracy  0.5556\n",
      "Epoch 32, CIFAR-10 Batch 1:  Loss  0.988035\n",
      "validation accuracy  0.5748\n",
      "Epoch 32, CIFAR-10 Batch 2:  Loss  1.03057\n",
      "validation accuracy  0.566\n",
      "Epoch 32, CIFAR-10 Batch 3:  Loss  0.886251\n",
      "validation accuracy  0.5646\n",
      "Epoch 32, CIFAR-10 Batch 4:  Loss  0.864589\n",
      "validation accuracy  0.569\n",
      "Epoch 32, CIFAR-10 Batch 5:  Loss  0.924327\n",
      "validation accuracy  0.5512\n",
      "Epoch 33, CIFAR-10 Batch 1:  Loss  1.00461\n",
      "validation accuracy  0.569\n",
      "Epoch 33, CIFAR-10 Batch 2:  Loss  1.04484\n",
      "validation accuracy  0.5648\n",
      "Epoch 33, CIFAR-10 Batch 3:  Loss  0.845992\n",
      "validation accuracy  0.5638\n",
      "Epoch 33, CIFAR-10 Batch 4:  Loss  0.933619\n",
      "validation accuracy  0.5558\n",
      "Epoch 33, CIFAR-10 Batch 5:  Loss  0.916649\n",
      "validation accuracy  0.5556\n",
      "Epoch 34, CIFAR-10 Batch 1:  Loss  0.929663\n",
      "validation accuracy  0.5728\n",
      "Epoch 34, CIFAR-10 Batch 2:  Loss  0.992159\n",
      "validation accuracy  0.5686\n",
      "Epoch 34, CIFAR-10 Batch 3:  Loss  0.829132\n",
      "validation accuracy  0.5674\n",
      "Epoch 34, CIFAR-10 Batch 4:  Loss  0.875138\n",
      "validation accuracy  0.561\n",
      "Epoch 34, CIFAR-10 Batch 5:  Loss  0.89125\n",
      "validation accuracy  0.557\n",
      "Epoch 35, CIFAR-10 Batch 1:  Loss  0.946072\n",
      "validation accuracy  0.572\n",
      "Epoch 35, CIFAR-10 Batch 2:  Loss  0.982011\n",
      "validation accuracy  0.5828\n",
      "Epoch 35, CIFAR-10 Batch 3:  Loss  0.8209\n",
      "validation accuracy  0.573\n",
      "Epoch 35, CIFAR-10 Batch 4:  Loss  0.846087\n",
      "validation accuracy  0.5678\n",
      "Epoch 35, CIFAR-10 Batch 5:  Loss  0.863225\n",
      "validation accuracy  0.5782\n",
      "Epoch 36, CIFAR-10 Batch 1:  Loss  0.955561\n",
      "validation accuracy  0.5802\n",
      "Epoch 36, CIFAR-10 Batch 2:  Loss  0.98615\n",
      "validation accuracy  0.5722\n",
      "Epoch 36, CIFAR-10 Batch 3:  Loss  0.822997\n",
      "validation accuracy  0.5788\n",
      "Epoch 36, CIFAR-10 Batch 4:  Loss  0.800133\n",
      "validation accuracy  0.5808\n",
      "Epoch 36, CIFAR-10 Batch 5:  Loss  0.881664\n",
      "validation accuracy  0.5704\n",
      "Epoch 37, CIFAR-10 Batch 1:  Loss  0.898388\n",
      "validation accuracy  0.5842\n",
      "Epoch 37, CIFAR-10 Batch 2:  Loss  0.976299\n",
      "validation accuracy  0.5736\n",
      "Epoch 37, CIFAR-10 Batch 3:  Loss  0.824082\n",
      "validation accuracy  0.5772\n",
      "Epoch 37, CIFAR-10 Batch 4:  Loss  0.793099\n",
      "validation accuracy  0.5768\n",
      "Epoch 37, CIFAR-10 Batch 5:  Loss  0.86615\n",
      "validation accuracy  0.5748\n",
      "Epoch 38, CIFAR-10 Batch 1:  Loss  0.903261\n",
      "validation accuracy  0.5814\n",
      "Epoch 38, CIFAR-10 Batch 2:  Loss  0.961295\n",
      "validation accuracy  0.5824\n",
      "Epoch 38, CIFAR-10 Batch 3:  Loss  0.800806\n",
      "validation accuracy  0.5782\n",
      "Epoch 38, CIFAR-10 Batch 4:  Loss  0.814866\n",
      "validation accuracy  0.5732\n",
      "Epoch 38, CIFAR-10 Batch 5:  Loss  0.843564\n",
      "validation accuracy  0.5672\n",
      "Epoch 39, CIFAR-10 Batch 1:  Loss  0.903001\n",
      "validation accuracy  0.585\n",
      "Epoch 39, CIFAR-10 Batch 2:  Loss  0.988685\n",
      "validation accuracy  0.571\n",
      "Epoch 39, CIFAR-10 Batch 3:  Loss  0.791337\n",
      "validation accuracy  0.58\n",
      "Epoch 39, CIFAR-10 Batch 4:  Loss  0.785613\n",
      "validation accuracy  0.5792\n",
      "Epoch 39, CIFAR-10 Batch 5:  Loss  0.853281\n",
      "validation accuracy  0.5708\n",
      "Epoch 40, CIFAR-10 Batch 1:  Loss  0.913895\n",
      "validation accuracy  0.582\n",
      "Epoch 40, CIFAR-10 Batch 2:  Loss  0.964989\n",
      "validation accuracy  0.5752\n",
      "Epoch 40, CIFAR-10 Batch 3:  Loss  0.807866\n",
      "validation accuracy  0.5836\n",
      "Epoch 40, CIFAR-10 Batch 4:  Loss  0.789387\n",
      "validation accuracy  0.5772\n",
      "Epoch 40, CIFAR-10 Batch 5:  Loss  0.860961\n",
      "validation accuracy  0.571\n",
      "Epoch 41, CIFAR-10 Batch 1:  Loss  0.893684\n",
      "validation accuracy  0.5896\n",
      "Epoch 41, CIFAR-10 Batch 2:  Loss  0.974819\n",
      "validation accuracy  0.578\n",
      "Epoch 41, CIFAR-10 Batch 3:  Loss  0.804784\n",
      "validation accuracy  0.5736\n",
      "Epoch 41, CIFAR-10 Batch 4:  Loss  0.77661\n",
      "validation accuracy  0.5812\n",
      "Epoch 41, CIFAR-10 Batch 5:  Loss  0.86409\n",
      "validation accuracy  0.5686\n",
      "Epoch 42, CIFAR-10 Batch 1:  Loss  0.854695\n",
      "validation accuracy  0.5806\n",
      "Epoch 42, CIFAR-10 Batch 2:  Loss  0.947865\n",
      "validation accuracy  0.5828\n",
      "Epoch 42, CIFAR-10 Batch 3:  Loss  0.786568\n",
      "validation accuracy  0.5668\n",
      "Epoch 42, CIFAR-10 Batch 4:  Loss  0.726249\n",
      "validation accuracy  0.5854\n",
      "Epoch 42, CIFAR-10 Batch 5:  Loss  0.84543\n",
      "validation accuracy  0.5728\n",
      "Epoch 43, CIFAR-10 Batch 1:  Loss  0.838242\n",
      "validation accuracy  0.5912\n",
      "Epoch 43, CIFAR-10 Batch 2:  Loss  0.939265\n",
      "validation accuracy  0.5862\n",
      "Epoch 43, CIFAR-10 Batch 3:  Loss  0.805992\n",
      "validation accuracy  0.5678\n",
      "Epoch 43, CIFAR-10 Batch 4:  Loss  0.731191\n",
      "validation accuracy  0.587\n",
      "Epoch 43, CIFAR-10 Batch 5:  Loss  0.829764\n",
      "validation accuracy  0.5764\n",
      "Epoch 44, CIFAR-10 Batch 1:  Loss  0.874556\n",
      "validation accuracy  0.5806\n",
      "Epoch 44, CIFAR-10 Batch 2:  Loss  0.93738\n",
      "validation accuracy  0.5856\n",
      "Epoch 44, CIFAR-10 Batch 3:  Loss  0.777572\n",
      "validation accuracy  0.586\n",
      "Epoch 44, CIFAR-10 Batch 4:  Loss  0.731587\n",
      "validation accuracy  0.577\n",
      "Epoch 44, CIFAR-10 Batch 5:  Loss  0.80414\n",
      "validation accuracy  0.5748\n",
      "Epoch 45, CIFAR-10 Batch 1:  Loss  0.842924\n",
      "validation accuracy  0.5842\n",
      "Epoch 45, CIFAR-10 Batch 2:  Loss  0.904164\n",
      "validation accuracy  0.5824\n",
      "Epoch 45, CIFAR-10 Batch 3:  Loss  0.774719\n",
      "validation accuracy  0.5936\n",
      "Epoch 45, CIFAR-10 Batch 4:  Loss  0.72845\n",
      "validation accuracy  0.5894\n",
      "Epoch 45, CIFAR-10 Batch 5:  Loss  0.788084\n",
      "validation accuracy  0.5794\n",
      "Epoch 46, CIFAR-10 Batch 1:  Loss  0.828092\n",
      "validation accuracy  0.59\n",
      "Epoch 46, CIFAR-10 Batch 2:  Loss  0.914811\n",
      "validation accuracy  0.5836\n",
      "Epoch 46, CIFAR-10 Batch 3:  Loss  0.759499\n",
      "validation accuracy  0.5852\n",
      "Epoch 46, CIFAR-10 Batch 4:  Loss  0.703262\n",
      "validation accuracy  0.5928\n",
      "Epoch 46, CIFAR-10 Batch 5:  Loss  0.792736\n",
      "validation accuracy  0.584\n",
      "Epoch 47, CIFAR-10 Batch 1:  Loss  0.821235\n",
      "validation accuracy  0.5856\n",
      "Epoch 47, CIFAR-10 Batch 2:  Loss  0.87063\n",
      "validation accuracy  0.5906\n",
      "Epoch 47, CIFAR-10 Batch 3:  Loss  0.799925\n",
      "validation accuracy  0.5724\n",
      "Epoch 47, CIFAR-10 Batch 4:  Loss  0.739524\n",
      "validation accuracy  0.5876\n",
      "Epoch 47, CIFAR-10 Batch 5:  Loss  0.751648\n",
      "validation accuracy  0.5848\n",
      "Epoch 48, CIFAR-10 Batch 1:  Loss  0.7936\n",
      "validation accuracy  0.5904\n",
      "Epoch 48, CIFAR-10 Batch 2:  Loss  0.898365\n",
      "validation accuracy  0.5878\n",
      "Epoch 48, CIFAR-10 Batch 3:  Loss  0.719399\n",
      "validation accuracy  0.5918\n",
      "Epoch 48, CIFAR-10 Batch 4:  Loss  0.688529\n",
      "validation accuracy  0.596\n",
      "Epoch 48, CIFAR-10 Batch 5:  Loss  0.806303\n",
      "validation accuracy  0.5792\n",
      "Epoch 49, CIFAR-10 Batch 1:  Loss  0.848094\n",
      "validation accuracy  0.585\n",
      "Epoch 49, CIFAR-10 Batch 2:  Loss  0.891095\n",
      "validation accuracy  0.5902\n",
      "Epoch 49, CIFAR-10 Batch 3:  Loss  0.703999\n",
      "validation accuracy  0.5912\n",
      "Epoch 49, CIFAR-10 Batch 4:  Loss  0.698925\n",
      "validation accuracy  0.593\n",
      "Epoch 49, CIFAR-10 Batch 5:  Loss  0.776212\n",
      "validation accuracy  0.5888\n",
      "Epoch 50, CIFAR-10 Batch 1:  Loss  0.787154\n",
      "validation accuracy  0.5998\n",
      "Epoch 50, CIFAR-10 Batch 2:  Loss  0.871773\n",
      "validation accuracy  0.5856\n",
      "Epoch 50, CIFAR-10 Batch 3:  Loss  0.714439\n",
      "validation accuracy  0.583\n",
      "Epoch 50, CIFAR-10 Batch 4:  Loss  0.716171\n",
      "validation accuracy  0.577\n",
      "Epoch 50, CIFAR-10 Batch 5:  Loss  0.773912\n",
      "validation accuracy  0.5812\n"
     ]
    }
   ],
   "source": [
    "# [MU] reset loss and accuracy to plot\n",
    "losses = []\n",
    "accuracies = []\n",
    "\n",
    "\"\"\"\n",
    "DON'T MODIFY ANYTHING IN THIS CELL\n",
    "\"\"\"\n",
    "save_model_path = './image_classification'\n",
    "\n",
    "print('Training...')\n",
    "with tf.Session() as sess:\n",
    "    # Initializing the variables\n",
    "    sess.run(tf.global_variables_initializer())\n",
    "    \n",
    "    # Training cycle\n",
    "    for epoch in range(epochs):\n",
    "        # Loop over all batches\n",
    "        n_batches = 5\n",
    "        for batch_i in range(1, n_batches + 1):\n",
    "            for batch_features, batch_labels in helper.load_preprocess_training_batch(batch_i, batch_size):\n",
    "                train_neural_network(sess, optimizer, keep_probability, batch_features, batch_labels)\n",
    "            print('Epoch {:>2}, CIFAR-10 Batch {}:  '.format(epoch + 1, batch_i), end='')\n",
    "            print_stats(sess, batch_features, batch_labels, cost, accuracy)\n",
    "            \n",
    "    # Save Model\n",
    "    saver = tf.train.Saver()\n",
    "    save_path = saver.save(sess, save_model_path)"
   ]
  },
  {
   "cell_type": "code",
   "execution_count": 16,
   "metadata": {
    "collapsed": false,
    "deletable": true,
    "editable": true
   },
   "outputs": [
    {
     "data": {
      "text/plain": [
       "<matplotlib.legend.Legend at 0x7fa0f3baac18>"
      ]
     },
     "execution_count": 16,
     "metadata": {},
     "output_type": "execute_result"
    },
    {
     "data": {
      "image/png": "[encoded data removed]",
      "text/plain": [
       "<matplotlib.figure.Figure at 0x7fa101b912b0>"
      ]
     },
     "metadata": {
      "image/png": {
       "height": 250,
       "width": 373
      }
     },
     "output_type": "display_data"
    }
   ],
   "source": [
    "# [MU] plot loss and accuracy\n",
    "%matplotlib inline\n",
    "%config InlineBackend.figure_format = 'retina'\n",
    "\n",
    "import matplotlib.pyplot as plt\n",
    "\n",
    "plt.plot(losses, label='Training loss', c='blue')\n",
    "plt.plot(accuracies, label='Validation accuracy', c='orange')\n",
    "plt.legend()"
   ]
  },
  {
   "cell_type": "markdown",
   "metadata": {
    "deletable": true,
    "editable": true
   },
   "source": [
    "# Checkpoint\n",
    "The model has been saved to disk.\n",
    "## Test Model\n",
    "Test your model against the test dataset.  This will be your final accuracy. You should have an accuracy greater than 50%. If you don't, keep tweaking the model architecture and parameters."
   ]
  },
  {
   "cell_type": "code",
   "execution_count": 17,
   "metadata": {
    "collapsed": false,
    "deletable": true,
    "editable": true
   },
   "outputs": [
    {
     "name": "stdout",
     "output_type": "stream",
     "text": [
      "Testing Accuracy: 0.57890625\n",
      "\n"
     ]
    },
    {
     "data": {
      "image/png": "[encoded data removed]",
      "text/plain": [
       "<matplotlib.figure.Figure at 0x7fa0f3d88198>"
      ]
     },
     "metadata": {
      "image/png": {
       "height": 319,
       "width": 355
      }
     },
     "output_type": "display_data"
    }
   ],
   "source": [
    "\"\"\"\n",
    "DON'T MODIFY ANYTHING IN THIS CELL\n",
    "\"\"\"\n",
    "%matplotlib inline\n",
    "%config InlineBackend.figure_format = 'retina'\n",
    "\n",
    "import tensorflow as tf\n",
    "import pickle\n",
    "import helper\n",
    "import random\n",
    "\n",
    "# Set batch size if not already set\n",
    "try:\n",
    "    if batch_size:\n",
    "        pass\n",
    "except NameError:\n",
    "    batch_size = 64\n",
    "\n",
    "save_model_path = './image_classification'\n",
    "n_samples = 4\n",
    "top_n_predictions = 3\n",
    "\n",
    "def test_model():\n",
    "    \"\"\"\n",
    "    Test the saved model against the test dataset\n",
    "    \"\"\"\n",
    "\n",
    "    test_features, test_labels = pickle.load(open('preprocess_training.p', mode='rb'))\n",
    "    loaded_graph = tf.Graph()\n",
    "\n",
    "    with tf.Session(graph=loaded_graph) as sess:\n",
    "        # Load model\n",
    "        loader = tf.train.import_meta_graph(save_model_path + '.meta')\n",
    "        loader.restore(sess, save_model_path)\n",
    "\n",
    "        # Get Tensors from loaded model\n",
    "        loaded_x = loaded_graph.get_tensor_by_name('x:0')\n",
    "        loaded_y = loaded_graph.get_tensor_by_name('y:0')\n",
    "        loaded_keep_prob = loaded_graph.get_tensor_by_name('keep_prob:0')\n",
    "        loaded_logits = loaded_graph.get_tensor_by_name('logits:0')\n",
    "        loaded_acc = loaded_graph.get_tensor_by_name('accuracy:0')\n",
    "        \n",
    "        # Get accuracy in batches for memory limitations\n",
    "        test_batch_acc_total = 0\n",
    "        test_batch_count = 0\n",
    "        \n",
    "        for train_feature_batch, train_label_batch in helper.batch_features_labels(test_features, test_labels, batch_size):\n",
    "            test_batch_acc_total += sess.run(\n",
    "                loaded_acc,\n",
    "                feed_dict={loaded_x: train_feature_batch, loaded_y: train_label_batch, loaded_keep_prob: 1.0})\n",
    "            test_batch_count += 1\n",
    "\n",
    "        print('Testing Accuracy: {}\\n'.format(test_batch_acc_total/test_batch_count))\n",
    "\n",
    "        # Print Random Samples\n",
    "        random_test_features, random_test_labels = tuple(zip(*random.sample(list(zip(test_features, test_labels)), n_samples)))\n",
    "        random_test_predictions = sess.run(\n",
    "            tf.nn.top_k(tf.nn.softmax(loaded_logits), top_n_predictions),\n",
    "            feed_dict={loaded_x: random_test_features, loaded_y: random_test_labels, loaded_keep_prob: 1.0})\n",
    "        helper.display_image_predictions(random_test_features, random_test_labels, random_test_predictions)\n",
    "\n",
    "\n",
    "test_model()"
   ]
  },
  {
   "cell_type": "markdown",
   "metadata": {},
   "source": [
    "[MU] With other network architectures I got until 75%, with much more epoch."
   ]
  },
  {
   "cell_type": "markdown",
   "metadata": {
    "deletable": true,
    "editable": true
   },
   "source": [
    "## Why 50-70% Accuracy?\n",
    "You might be wondering why you can't get an accuracy any higher. First things first, 50% isn't bad for a simple CNN.  Pure guessing would get you 10% accuracy. However, you might notice people are getting scores [well above 70%](http://rodrigob.github.io/are_we_there_yet/build/classification_datasets_results.html#43494641522d3130).  That's because we haven't taught you all there is to know about neural networks. We still need to cover a few more techniques.\n",
    "## Submitting This Project\n",
    "When submitting this project, make sure to run all the cells before saving the notebook.  Save the notebook file as \"dlnd_image_classification.ipynb\" and save it as a HTML file under \"File\" -> \"Download as\".  Include the \"helper.py\" and \"problem_unittests.py\" files in your submission."
   ]
  },
  {
   "cell_type": "code",
   "execution_count": null,
   "metadata": {
    "collapsed": true,
    "deletable": true,
    "editable": true
   },
   "outputs": [],
   "source": []
  }
 ],
 "metadata": {
  "kernelspec": {
   "display_name": "Python 3",
   "language": "python",
   "name": "python3"
  },
  "language_info": {
   "codemirror_mode": {
    "name": "ipython",
    "version": 3
   },
   "file_extension": ".py",
   "mimetype": "text/x-python",
   "name": "python",
   "nbconvert_exporter": "python",
   "pygments_lexer": "ipython3",
   "version": "3.5.2"
  },
  "widgets": {
   "state": {},
   "version": "1.1.2"
  }
 },
 "nbformat": 4,
 "nbformat_minor": 0
}
